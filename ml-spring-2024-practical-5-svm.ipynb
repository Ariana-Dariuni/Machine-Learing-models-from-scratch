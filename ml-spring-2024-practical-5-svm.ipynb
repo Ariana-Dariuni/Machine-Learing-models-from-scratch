{
 "cells": [
  {
   "cell_type": "markdown",
   "id": "091ce762",
   "metadata": {
    "papermill": {
     "duration": 0.016688,
     "end_time": "2024-06-13T15:52:42.392270",
     "exception": false,
     "start_time": "2024-06-13T15:52:42.375582",
     "status": "completed"
    },
    "tags": []
   },
   "source": [
    "### Full Name : Ariana Koocheki Dariuni\n",
    "### Student Number : 400103624\n",
    "___"
   ]
  },
  {
   "cell_type": "markdown",
   "id": "4e8dcba6",
   "metadata": {
    "papermill": {
     "duration": 0.01461,
     "end_time": "2024-06-13T15:52:42.422033",
     "exception": false,
     "start_time": "2024-06-13T15:52:42.407423",
     "status": "completed"
    },
    "tags": []
   },
   "source": [
    "# Phase 0: Intro\n",
    "\n",
    "In this assignment, you will implement SVM (Support Vector Machines) for classification and get familier with different kernel functions."
   ]
  },
  {
   "cell_type": "code",
   "execution_count": 1,
   "id": "2d4b5139",
   "metadata": {
    "execution": {
     "iopub.execute_input": "2024-06-13T15:52:42.453438Z",
     "iopub.status.busy": "2024-06-13T15:52:42.452982Z",
     "iopub.status.idle": "2024-06-13T15:52:44.688922Z",
     "shell.execute_reply": "2024-06-13T15:52:44.687584Z"
    },
    "papermill": {
     "duration": 2.255159,
     "end_time": "2024-06-13T15:52:44.691998",
     "exception": false,
     "start_time": "2024-06-13T15:52:42.436839",
     "status": "completed"
    },
    "tags": []
   },
   "outputs": [
    {
     "name": "stdout",
     "output_type": "stream",
     "text": [
      "--2024-06-13 15:52:43--  https://www.dropbox.com/scl/fi/hpm5otpwt0u0f5kpkwitv/UniversalBank.csv?rlkey=tgodjcv885iwk5epvvssjfqtq&st=7rpt406e&dl=1\r\n",
      "Resolving www.dropbox.com (www.dropbox.com)... 162.125.65.18, 2620:100:6021:18::a27d:4112\r\n",
      "Connecting to www.dropbox.com (www.dropbox.com)|162.125.65.18|:443... connected.\r\n",
      "HTTP request sent, awaiting response... 302 Found\r\n",
      "Location: https://uc29d91640ebdf000cf400c81e26.dl.dropboxusercontent.com/cd/0/inline/CUxjQEIPSKc0Ua8P4x-RcyLDXqPN6RxqRQdPiTou-nXuRVjvcGsHT-6Ku4_Z-Y9ulrUCouj2cpTXWb5XvfsCQ2yvfKnDywa9F7lSaM4TFVgt17WemL416fjKg13MAONiiJx7l6pZB6DYBTsun1NqX-UC/file?dl=1# [following]\r\n",
      "--2024-06-13 15:52:44--  https://uc29d91640ebdf000cf400c81e26.dl.dropboxusercontent.com/cd/0/inline/CUxjQEIPSKc0Ua8P4x-RcyLDXqPN6RxqRQdPiTou-nXuRVjvcGsHT-6Ku4_Z-Y9ulrUCouj2cpTXWb5XvfsCQ2yvfKnDywa9F7lSaM4TFVgt17WemL416fjKg13MAONiiJx7l6pZB6DYBTsun1NqX-UC/file?dl=1\r\n",
      "Resolving uc29d91640ebdf000cf400c81e26.dl.dropboxusercontent.com (uc29d91640ebdf000cf400c81e26.dl.dropboxusercontent.com)... 162.125.65.15, 2620:100:6021:15::a27d:410f\r\n",
      "Connecting to uc29d91640ebdf000cf400c81e26.dl.dropboxusercontent.com (uc29d91640ebdf000cf400c81e26.dl.dropboxusercontent.com)|162.125.65.15|:443... connected.\r\n",
      "HTTP request sent, awaiting response... 200 OK\r\n",
      "Length: 205669 (201K) [application/binary]\r\n",
      "Saving to: 'UniversalBank.csv'\r\n",
      "\r\n",
      "UniversalBank.csv   100%[===================>] 200.85K  --.-KB/s    in 0.01s   \r\n",
      "\r\n",
      "2024-06-13 15:52:44 (14.0 MB/s) - 'UniversalBank.csv' saved [205669/205669]\r\n",
      "\r\n"
     ]
    }
   ],
   "source": [
    "!wget \"https://www.dropbox.com/scl/fi/hpm5otpwt0u0f5kpkwitv/UniversalBank.csv?rlkey=tgodjcv885iwk5epvvssjfqtq&st=7rpt406e&dl=1\" -O \"UniversalBank.csv\""
   ]
  },
  {
   "cell_type": "markdown",
   "id": "73887d99",
   "metadata": {
    "papermill": {
     "duration": 0.015022,
     "end_time": "2024-06-13T15:52:44.722396",
     "exception": false,
     "start_time": "2024-06-13T15:52:44.707374",
     "status": "completed"
    },
    "tags": []
   },
   "source": [
    "Importing the Necessary Libraries"
   ]
  },
  {
   "cell_type": "code",
   "execution_count": 2,
   "id": "24c31b59",
   "metadata": {
    "execution": {
     "iopub.execute_input": "2024-06-13T15:52:44.755687Z",
     "iopub.status.busy": "2024-06-13T15:52:44.755237Z",
     "iopub.status.idle": "2024-06-13T15:52:47.753692Z",
     "shell.execute_reply": "2024-06-13T15:52:47.752168Z"
    },
    "papermill": {
     "duration": 3.018836,
     "end_time": "2024-06-13T15:52:47.756598",
     "exception": false,
     "start_time": "2024-06-13T15:52:44.737762",
     "status": "completed"
    },
    "tags": []
   },
   "outputs": [],
   "source": [
    "import numpy as np\n",
    "import pandas as pd\n",
    "import seaborn as sns\n",
    "import matplotlib.pyplot as plt \n",
    "\n",
    "from sklearn.preprocessing import StandardScaler\n",
    "from sklearn.model_selection import train_test_split\n",
    "\n",
    "from sklearn.svm import SVC\n",
    "from sklearn.metrics import accuracy_score\n",
    "from sklearn.metrics import confusion_matrix\n",
    "from sklearn.metrics import balanced_accuracy_score"
   ]
  },
  {
   "cell_type": "markdown",
   "id": "72d70610",
   "metadata": {
    "papermill": {
     "duration": 0.015644,
     "end_time": "2024-06-13T15:52:47.788025",
     "exception": false,
     "start_time": "2024-06-13T15:52:47.772381",
     "status": "completed"
    },
    "tags": []
   },
   "source": [
    "# Phase 1: Data Processing (20 points)"
   ]
  },
  {
   "cell_type": "markdown",
   "id": "52cbc734",
   "metadata": {
    "papermill": {
     "duration": 0.015531,
     "end_time": "2024-06-13T15:52:47.819356",
     "exception": false,
     "start_time": "2024-06-13T15:52:47.803825",
     "status": "completed"
    },
    "tags": []
   },
   "source": [
    "Load the ```UniversalBank.csv``` dataset as a dataframe.\n"
   ]
  },
  {
   "cell_type": "code",
   "execution_count": 3,
   "id": "446d55f9",
   "metadata": {
    "execution": {
     "iopub.execute_input": "2024-06-13T15:52:47.854260Z",
     "iopub.status.busy": "2024-06-13T15:52:47.853649Z",
     "iopub.status.idle": "2024-06-13T15:52:47.905969Z",
     "shell.execute_reply": "2024-06-13T15:52:47.904816Z"
    },
    "papermill": {
     "duration": 0.073792,
     "end_time": "2024-06-13T15:52:47.908623",
     "exception": false,
     "start_time": "2024-06-13T15:52:47.834831",
     "status": "completed"
    },
    "tags": []
   },
   "outputs": [
    {
     "data": {
      "text/html": [
       "<div>\n",
       "<style scoped>\n",
       "    .dataframe tbody tr th:only-of-type {\n",
       "        vertical-align: middle;\n",
       "    }\n",
       "\n",
       "    .dataframe tbody tr th {\n",
       "        vertical-align: top;\n",
       "    }\n",
       "\n",
       "    .dataframe thead th {\n",
       "        text-align: right;\n",
       "    }\n",
       "</style>\n",
       "<table border=\"1\" class=\"dataframe\">\n",
       "  <thead>\n",
       "    <tr style=\"text-align: right;\">\n",
       "      <th></th>\n",
       "      <th>ID</th>\n",
       "      <th>Age</th>\n",
       "      <th>Experience</th>\n",
       "      <th>Income</th>\n",
       "      <th>ZIP Code</th>\n",
       "      <th>Family</th>\n",
       "      <th>CCAvg</th>\n",
       "      <th>Education</th>\n",
       "      <th>Mortgage</th>\n",
       "      <th>Personal Loan</th>\n",
       "      <th>Securities Account</th>\n",
       "      <th>CD Account</th>\n",
       "      <th>Online</th>\n",
       "      <th>CreditCard</th>\n",
       "    </tr>\n",
       "  </thead>\n",
       "  <tbody>\n",
       "    <tr>\n",
       "      <th>0</th>\n",
       "      <td>1</td>\n",
       "      <td>25</td>\n",
       "      <td>1</td>\n",
       "      <td>49</td>\n",
       "      <td>91107</td>\n",
       "      <td>4</td>\n",
       "      <td>1.6</td>\n",
       "      <td>1</td>\n",
       "      <td>0</td>\n",
       "      <td>0</td>\n",
       "      <td>1</td>\n",
       "      <td>0</td>\n",
       "      <td>0</td>\n",
       "      <td>0</td>\n",
       "    </tr>\n",
       "    <tr>\n",
       "      <th>1</th>\n",
       "      <td>2</td>\n",
       "      <td>45</td>\n",
       "      <td>19</td>\n",
       "      <td>34</td>\n",
       "      <td>90089</td>\n",
       "      <td>3</td>\n",
       "      <td>1.5</td>\n",
       "      <td>1</td>\n",
       "      <td>0</td>\n",
       "      <td>0</td>\n",
       "      <td>1</td>\n",
       "      <td>0</td>\n",
       "      <td>0</td>\n",
       "      <td>0</td>\n",
       "    </tr>\n",
       "    <tr>\n",
       "      <th>2</th>\n",
       "      <td>3</td>\n",
       "      <td>39</td>\n",
       "      <td>15</td>\n",
       "      <td>11</td>\n",
       "      <td>94720</td>\n",
       "      <td>1</td>\n",
       "      <td>1.0</td>\n",
       "      <td>1</td>\n",
       "      <td>0</td>\n",
       "      <td>0</td>\n",
       "      <td>0</td>\n",
       "      <td>0</td>\n",
       "      <td>0</td>\n",
       "      <td>0</td>\n",
       "    </tr>\n",
       "    <tr>\n",
       "      <th>3</th>\n",
       "      <td>4</td>\n",
       "      <td>35</td>\n",
       "      <td>9</td>\n",
       "      <td>100</td>\n",
       "      <td>94112</td>\n",
       "      <td>1</td>\n",
       "      <td>2.7</td>\n",
       "      <td>2</td>\n",
       "      <td>0</td>\n",
       "      <td>0</td>\n",
       "      <td>0</td>\n",
       "      <td>0</td>\n",
       "      <td>0</td>\n",
       "      <td>0</td>\n",
       "    </tr>\n",
       "    <tr>\n",
       "      <th>4</th>\n",
       "      <td>5</td>\n",
       "      <td>35</td>\n",
       "      <td>8</td>\n",
       "      <td>45</td>\n",
       "      <td>91330</td>\n",
       "      <td>4</td>\n",
       "      <td>1.0</td>\n",
       "      <td>2</td>\n",
       "      <td>0</td>\n",
       "      <td>0</td>\n",
       "      <td>0</td>\n",
       "      <td>0</td>\n",
       "      <td>0</td>\n",
       "      <td>1</td>\n",
       "    </tr>\n",
       "  </tbody>\n",
       "</table>\n",
       "</div>"
      ],
      "text/plain": [
       "   ID  Age  Experience  Income  ZIP Code  Family  CCAvg  Education  Mortgage  \\\n",
       "0   1   25           1      49     91107       4    1.6          1         0   \n",
       "1   2   45          19      34     90089       3    1.5          1         0   \n",
       "2   3   39          15      11     94720       1    1.0          1         0   \n",
       "3   4   35           9     100     94112       1    2.7          2         0   \n",
       "4   5   35           8      45     91330       4    1.0          2         0   \n",
       "\n",
       "   Personal Loan  Securities Account  CD Account  Online  CreditCard  \n",
       "0              0                   1           0       0           0  \n",
       "1              0                   1           0       0           0  \n",
       "2              0                   0           0       0           0  \n",
       "3              0                   0           0       0           0  \n",
       "4              0                   0           0       0           1  "
      ]
     },
     "execution_count": 3,
     "metadata": {},
     "output_type": "execute_result"
    }
   ],
   "source": [
    "df = pd.read_csv('UniversalBank.csv')\n",
    "df.head()"
   ]
  },
  {
   "cell_type": "markdown",
   "id": "23dd0984",
   "metadata": {
    "papermill": {
     "duration": 0.01587,
     "end_time": "2024-06-13T15:52:47.940932",
     "exception": false,
     "start_time": "2024-06-13T15:52:47.925062",
     "status": "completed"
    },
    "tags": []
   },
   "source": [
    "Show the top rows of the dataframe and the number of rows in the dataframe."
   ]
  },
  {
   "cell_type": "code",
   "execution_count": 4,
   "id": "a081b94e",
   "metadata": {
    "execution": {
     "iopub.execute_input": "2024-06-13T15:52:47.977540Z",
     "iopub.status.busy": "2024-06-13T15:52:47.976135Z",
     "iopub.status.idle": "2024-06-13T15:52:47.983660Z",
     "shell.execute_reply": "2024-06-13T15:52:47.982582Z"
    },
    "papermill": {
     "duration": 0.028243,
     "end_time": "2024-06-13T15:52:47.986308",
     "exception": false,
     "start_time": "2024-06-13T15:52:47.958065",
     "status": "completed"
    },
    "tags": []
   },
   "outputs": [
    {
     "data": {
      "text/plain": [
       "(5000, 14)"
      ]
     },
     "execution_count": 4,
     "metadata": {},
     "output_type": "execute_result"
    }
   ],
   "source": [
    "df.shape"
   ]
  },
  {
   "cell_type": "markdown",
   "id": "9af09f52",
   "metadata": {
    "papermill": {
     "duration": 0.016183,
     "end_time": "2024-06-13T15:52:48.018750",
     "exception": false,
     "start_time": "2024-06-13T15:52:48.002567",
     "status": "completed"
    },
    "tags": []
   },
   "source": [
    "Check for missing values."
   ]
  },
  {
   "cell_type": "code",
   "execution_count": 5,
   "id": "d3b533d9",
   "metadata": {
    "execution": {
     "iopub.execute_input": "2024-06-13T15:52:48.052124Z",
     "iopub.status.busy": "2024-06-13T15:52:48.051713Z",
     "iopub.status.idle": "2024-06-13T15:52:48.062632Z",
     "shell.execute_reply": "2024-06-13T15:52:48.061504Z"
    },
    "papermill": {
     "duration": 0.03058,
     "end_time": "2024-06-13T15:52:48.065161",
     "exception": false,
     "start_time": "2024-06-13T15:52:48.034581",
     "status": "completed"
    },
    "tags": []
   },
   "outputs": [
    {
     "data": {
      "text/plain": [
       "ID                    0\n",
       "Age                   0\n",
       "Experience            0\n",
       "Income                0\n",
       "ZIP Code              0\n",
       "Family                0\n",
       "CCAvg                 0\n",
       "Education             0\n",
       "Mortgage              0\n",
       "Personal Loan         0\n",
       "Securities Account    0\n",
       "CD Account            0\n",
       "Online                0\n",
       "CreditCard            0\n",
       "dtype: int64"
      ]
     },
     "execution_count": 5,
     "metadata": {},
     "output_type": "execute_result"
    }
   ],
   "source": [
    "df.isnull().sum()"
   ]
  },
  {
   "cell_type": "markdown",
   "id": "a3b07650",
   "metadata": {
    "papermill": {
     "duration": 0.015991,
     "end_time": "2024-06-13T15:52:48.098167",
     "exception": false,
     "start_time": "2024-06-13T15:52:48.082176",
     "status": "completed"
    },
    "tags": []
   },
   "source": [
    "Drop ID and ZIP Code columns from the dataset."
   ]
  },
  {
   "cell_type": "code",
   "execution_count": 6,
   "id": "b4215991",
   "metadata": {
    "execution": {
     "iopub.execute_input": "2024-06-13T15:52:48.133395Z",
     "iopub.status.busy": "2024-06-13T15:52:48.132975Z",
     "iopub.status.idle": "2024-06-13T15:52:48.143346Z",
     "shell.execute_reply": "2024-06-13T15:52:48.142241Z"
    },
    "papermill": {
     "duration": 0.030868,
     "end_time": "2024-06-13T15:52:48.145736",
     "exception": false,
     "start_time": "2024-06-13T15:52:48.114868",
     "status": "completed"
    },
    "tags": []
   },
   "outputs": [],
   "source": [
    "df = df.drop(columns =['ID', 'ZIP Code'],axis=0)"
   ]
  },
  {
   "cell_type": "markdown",
   "id": "7942777f",
   "metadata": {
    "papermill": {
     "duration": 0.015905,
     "end_time": "2024-06-13T15:52:48.177633",
     "exception": false,
     "start_time": "2024-06-13T15:52:48.161728",
     "status": "completed"
    },
    "tags": []
   },
   "source": [
    "Plot the Heatmap to see the correlations between features."
   ]
  },
  {
   "cell_type": "code",
   "execution_count": 7,
   "id": "3e5348ac",
   "metadata": {
    "execution": {
     "iopub.execute_input": "2024-06-13T15:52:48.211903Z",
     "iopub.status.busy": "2024-06-13T15:52:48.211474Z",
     "iopub.status.idle": "2024-06-13T15:52:49.268842Z",
     "shell.execute_reply": "2024-06-13T15:52:49.267650Z"
    },
    "papermill": {
     "duration": 1.078875,
     "end_time": "2024-06-13T15:52:49.272521",
     "exception": false,
     "start_time": "2024-06-13T15:52:48.193646",
     "status": "completed"
    },
    "tags": []
   },
   "outputs": [
    {
     "data": {
      "text/plain": [
       "Text(0.5, 1.0, 'Correlation Heatmap')"
      ]
     },
     "execution_count": 7,
     "metadata": {},
     "output_type": "execute_result"
    },
    {
     "data": {
      "image/png": "[encoded data removed]",
      "text/plain": [
       "<Figure size 1600x600 with 2 Axes>"
      ]
     },
     "metadata": {},
     "output_type": "display_data"
    }
   ],
   "source": [
    "plt.figure(figsize=(16, 6))\n",
    "heatmap = sns.heatmap(df.corr(), vmin=-1, vmax=1, annot=True,cmap='viridis')\n",
    "heatmap.set_title('Correlation Heatmap', fontdict={'fontsize':12}, pad=12)"
   ]
  },
  {
   "cell_type": "markdown",
   "id": "04d8ebe3",
   "metadata": {
    "papermill": {
     "duration": 0.018045,
     "end_time": "2024-06-13T15:52:49.309575",
     "exception": false,
     "start_time": "2024-06-13T15:52:49.291530",
     "status": "completed"
    },
    "tags": []
   },
   "source": [
    "Scale the data using ```StandardScaler```"
   ]
  },
  {
   "cell_type": "code",
   "execution_count": 8,
   "id": "b71bfdbb",
   "metadata": {
    "execution": {
     "iopub.execute_input": "2024-06-13T15:52:49.349606Z",
     "iopub.status.busy": "2024-06-13T15:52:49.349196Z",
     "iopub.status.idle": "2024-06-13T15:52:49.363860Z",
     "shell.execute_reply": "2024-06-13T15:52:49.362537Z"
    },
    "papermill": {
     "duration": 0.038023,
     "end_time": "2024-06-13T15:52:49.366744",
     "exception": false,
     "start_time": "2024-06-13T15:52:49.328721",
     "status": "completed"
    },
    "tags": []
   },
   "outputs": [],
   "source": [
    "scaler = StandardScaler()\n",
    "scaled_data = scaler.fit_transform(df.drop(columns =['CreditCard'],axis=0))\n"
   ]
  },
  {
   "cell_type": "markdown",
   "id": "eb8f6267",
   "metadata": {
    "papermill": {
     "duration": 0.019623,
     "end_time": "2024-06-13T15:52:49.404756",
     "exception": false,
     "start_time": "2024-06-13T15:52:49.385133",
     "status": "completed"
    },
    "tags": []
   },
   "source": [
    "Split data to features and labels. The ```CreditCard``` column is our target variable. "
   ]
  },
  {
   "cell_type": "code",
   "execution_count": 9,
   "id": "bfc4437e",
   "metadata": {
    "execution": {
     "iopub.execute_input": "2024-06-13T15:52:49.443404Z",
     "iopub.status.busy": "2024-06-13T15:52:49.442977Z",
     "iopub.status.idle": "2024-06-13T15:52:49.450350Z",
     "shell.execute_reply": "2024-06-13T15:52:49.449182Z"
    },
    "papermill": {
     "duration": 0.030105,
     "end_time": "2024-06-13T15:52:49.453195",
     "exception": false,
     "start_time": "2024-06-13T15:52:49.423090",
     "status": "completed"
    },
    "tags": []
   },
   "outputs": [
    {
     "name": "stdout",
     "output_type": "stream",
     "text": [
      "\n",
      "Features (X):\n",
      "(5000, 11)\n",
      "\n",
      "Labels (y):\n",
      "(5000,)\n"
     ]
    }
   ],
   "source": [
    "X = scaled_data\n",
    "# changing labels as SVM can understand\n",
    "y = (df.CreditCard.to_numpy()*2) -1\n",
    "print(\"\\nFeatures (X):\")\n",
    "print(X.shape)\n",
    "\n",
    "print(\"\\nLabels (y):\")\n",
    "print(y.shape)"
   ]
  },
  {
   "cell_type": "markdown",
   "id": "d114b125",
   "metadata": {
    "papermill": {
     "duration": 0.018168,
     "end_time": "2024-06-13T15:52:49.489950",
     "exception": false,
     "start_time": "2024-06-13T15:52:49.471782",
     "status": "completed"
    },
    "tags": []
   },
   "source": [
    "Now split data to train, validation and test parts. 60% of data should be used for train, 20% for validation and 20% for test."
   ]
  },
  {
   "cell_type": "code",
   "execution_count": 10,
   "id": "9ac657a0",
   "metadata": {
    "execution": {
     "iopub.execute_input": "2024-06-13T15:52:49.528842Z",
     "iopub.status.busy": "2024-06-13T15:52:49.528341Z",
     "iopub.status.idle": "2024-06-13T15:52:49.542045Z",
     "shell.execute_reply": "2024-06-13T15:52:49.540400Z"
    },
    "papermill": {
     "duration": 0.036114,
     "end_time": "2024-06-13T15:52:49.544574",
     "exception": false,
     "start_time": "2024-06-13T15:52:49.508460",
     "status": "completed"
    },
    "tags": []
   },
   "outputs": [
    {
     "name": "stdout",
     "output_type": "stream",
     "text": [
      "\n",
      "Training Features (X_train):\n",
      "(3000, 11)\n",
      "\n",
      "Validation Features (X_val):\n",
      "(1000, 11)\n",
      "\n",
      "Testing Features (X_test):\n",
      "(1000, 11)\n"
     ]
    }
   ],
   "source": [
    "X_train, X_temp, y_train, y_temp = train_test_split(X, y, test_size=0.4, random_state=11)\n",
    "\n",
    "X_val, X_test, y_val, y_test = train_test_split(X_temp, y_temp, test_size=0.5, random_state=11)\n",
    "\n",
    "print(\"\\nTraining Features (X_train):\")\n",
    "print(X_train.shape)\n",
    "print(\"\\nValidation Features (X_val):\")\n",
    "print(X_val.shape)\n",
    "print(\"\\nTesting Features (X_test):\")\n",
    "print(X_test.shape)\n"
   ]
  },
  {
   "cell_type": "markdown",
   "id": "2444a6f6",
   "metadata": {
    "papermill": {
     "duration": 0.018435,
     "end_time": "2024-06-13T15:52:49.581845",
     "exception": false,
     "start_time": "2024-06-13T15:52:49.563410",
     "status": "completed"
    },
    "tags": []
   },
   "source": [
    "# Phase 2: Training and Evaluation (60 points)"
   ]
  },
  {
   "cell_type": "markdown",
   "id": "b7999dbb",
   "metadata": {
    "papermill": {
     "duration": 0.018489,
     "end_time": "2024-06-13T15:52:49.680727",
     "exception": false,
     "start_time": "2024-06-13T15:52:49.662238",
     "status": "completed"
    },
    "tags": []
   },
   "source": [
    "Now we will implement the SVM algorithm using Python. Here we will use the Universal Bank Dataset to understand the Support Vector Machine Algorithm."
   ]
  },
  {
   "cell_type": "markdown",
   "id": "9fb82266",
   "metadata": {
    "papermill": {
     "duration": 0.01864,
     "end_time": "2024-06-13T15:52:49.718313",
     "exception": false,
     "start_time": "2024-06-13T15:52:49.699673",
     "status": "completed"
    },
    "tags": []
   },
   "source": [
    "Using ```SVC()``` function from ```sklearn.svm``` library fit SVM model on train data."
   ]
  },
  {
   "cell_type": "code",
   "execution_count": 11,
   "id": "67163bb0",
   "metadata": {
    "execution": {
     "iopub.execute_input": "2024-06-13T15:52:49.758349Z",
     "iopub.status.busy": "2024-06-13T15:52:49.757922Z",
     "iopub.status.idle": "2024-06-13T15:52:50.283132Z",
     "shell.execute_reply": "2024-06-13T15:52:50.281950Z"
    },
    "papermill": {
     "duration": 0.548471,
     "end_time": "2024-06-13T15:52:50.285787",
     "exception": false,
     "start_time": "2024-06-13T15:52:49.737316",
     "status": "completed"
    },
    "tags": []
   },
   "outputs": [
    {
     "data": {
      "text/html": [
       "<style>#sk-container-id-1 {color: black;background-color: white;}#sk-container-id-1 pre{padding: 0;}#sk-container-id-1 div.sk-toggleable {background-color: white;}#sk-container-id-1 label.sk-toggleable__label {cursor: pointer;display: block;width: 100%;margin-bottom: 0;padding: 0.3em;box-sizing: border-box;text-align: center;}#sk-container-id-1 label.sk-toggleable__label-arrow:before {content: \"▸\";float: left;margin-right: 0.25em;color: #696969;}#sk-container-id-1 label.sk-toggleable__label-arrow:hover:before {color: black;}#sk-container-id-1 div.sk-estimator:hover label.sk-toggleable__label-arrow:before {color: black;}#sk-container-id-1 div.sk-toggleable__content {max-height: 0;max-width: 0;overflow: hidden;text-align: left;background-color: #f0f8ff;}#sk-container-id-1 div.sk-toggleable__content pre {margin: 0.2em;color: black;border-radius: 0.25em;background-color: #f0f8ff;}#sk-container-id-1 input.sk-toggleable__control:checked~div.sk-toggleable__content {max-height: 200px;max-width: 100%;overflow: auto;}#sk-container-id-1 input.sk-toggleable__control:checked~label.sk-toggleable__label-arrow:before {content: \"▾\";}#sk-container-id-1 div.sk-estimator input.sk-toggleable__control:checked~label.sk-toggleable__label {background-color: #d4ebff;}#sk-container-id-1 div.sk-label input.sk-toggleable__control:checked~label.sk-toggleable__label {background-color: #d4ebff;}#sk-container-id-1 input.sk-hidden--visually {border: 0;clip: rect(1px 1px 1px 1px);clip: rect(1px, 1px, 1px, 1px);height: 1px;margin: -1px;overflow: hidden;padding: 0;position: absolute;width: 1px;}#sk-container-id-1 div.sk-estimator {font-family: monospace;background-color: #f0f8ff;border: 1px dotted black;border-radius: 0.25em;box-sizing: border-box;margin-bottom: 0.5em;}#sk-container-id-1 div.sk-estimator:hover {background-color: #d4ebff;}#sk-container-id-1 div.sk-parallel-item::after {content: \"\";width: 100%;border-bottom: 1px solid gray;flex-grow: 1;}#sk-container-id-1 div.sk-label:hover label.sk-toggleable__label {background-color: #d4ebff;}#sk-container-id-1 div.sk-serial::before {content: \"\";position: absolute;border-left: 1px solid gray;box-sizing: border-box;top: 0;bottom: 0;left: 50%;z-index: 0;}#sk-container-id-1 div.sk-serial {display: flex;flex-direction: column;align-items: center;background-color: white;padding-right: 0.2em;padding-left: 0.2em;position: relative;}#sk-container-id-1 div.sk-item {position: relative;z-index: 1;}#sk-container-id-1 div.sk-parallel {display: flex;align-items: stretch;justify-content: center;background-color: white;position: relative;}#sk-container-id-1 div.sk-item::before, #sk-container-id-1 div.sk-parallel-item::before {content: \"\";position: absolute;border-left: 1px solid gray;box-sizing: border-box;top: 0;bottom: 0;left: 50%;z-index: -1;}#sk-container-id-1 div.sk-parallel-item {display: flex;flex-direction: column;z-index: 1;position: relative;background-color: white;}#sk-container-id-1 div.sk-parallel-item:first-child::after {align-self: flex-end;width: 50%;}#sk-container-id-1 div.sk-parallel-item:last-child::after {align-self: flex-start;width: 50%;}#sk-container-id-1 div.sk-parallel-item:only-child::after {width: 0;}#sk-container-id-1 div.sk-dashed-wrapped {border: 1px dashed gray;margin: 0 0.4em 0.5em 0.4em;box-sizing: border-box;padding-bottom: 0.4em;background-color: white;}#sk-container-id-1 div.sk-label label {font-family: monospace;font-weight: bold;display: inline-block;line-height: 1.2em;}#sk-container-id-1 div.sk-label-container {text-align: center;}#sk-container-id-1 div.sk-container {/* jupyter's `normalize.less` sets `[hidden] { display: none; }` but bootstrap.min.css set `[hidden] { display: none !important; }` so we also need the `!important` here to be able to override the default hidden behavior on the sphinx rendered scikit-learn.org. See: https://github.com/scikit-learn/scikit-learn/issues/21755 */display: inline-block !important;position: relative;}#sk-container-id-1 div.sk-text-repr-fallback {display: none;}</style><div id=\"sk-container-id-1\" class=\"sk-top-container\"><div class=\"sk-text-repr-fallback\"><pre>SVC()</pre><b>In a Jupyter environment, please rerun this cell to show the HTML representation or trust the notebook. <br />On GitHub, the HTML representation is unable to render, please try loading this page with nbviewer.org.</b></div><div class=\"sk-container\" hidden><div class=\"sk-item\"><div class=\"sk-estimator sk-toggleable\"><input class=\"sk-toggleable__control sk-hidden--visually\" id=\"sk-estimator-id-1\" type=\"checkbox\" checked><label for=\"sk-estimator-id-1\" class=\"sk-toggleable__label sk-toggleable__label-arrow\">SVC</label><div class=\"sk-toggleable__content\"><pre>SVC()</pre></div></div></div></div></div>"
      ],
      "text/plain": [
       "SVC()"
      ]
     },
     "execution_count": 11,
     "metadata": {},
     "output_type": "execute_result"
    }
   ],
   "source": [
    "model = SVC()\n",
    "model.fit(X_train, y_train)"
   ]
  },
  {
   "cell_type": "markdown",
   "id": "7190e57d",
   "metadata": {
    "papermill": {
     "duration": 0.019908,
     "end_time": "2024-06-13T15:52:50.324875",
     "exception": false,
     "start_time": "2024-06-13T15:52:50.304967",
     "status": "completed"
    },
    "tags": []
   },
   "source": [
    "Print model accuracy on both test and validation data."
   ]
  },
  {
   "cell_type": "code",
   "execution_count": 12,
   "id": "37f7a4c8",
   "metadata": {
    "execution": {
     "iopub.execute_input": "2024-06-13T15:52:50.365587Z",
     "iopub.status.busy": "2024-06-13T15:52:50.365191Z",
     "iopub.status.idle": "2024-06-13T15:52:50.593895Z",
     "shell.execute_reply": "2024-06-13T15:52:50.592122Z"
    },
    "papermill": {
     "duration": 0.252315,
     "end_time": "2024-06-13T15:52:50.596810",
     "exception": false,
     "start_time": "2024-06-13T15:52:50.344495",
     "status": "completed"
    },
    "tags": []
   },
   "outputs": [
    {
     "name": "stdout",
     "output_type": "stream",
     "text": [
      "Validation Accuracy: 0.741\n",
      "Test Accuracy: 0.759\n"
     ]
    }
   ],
   "source": [
    "y_val_pred = model.predict(X_val)\n",
    "y_test_pred = model.predict(X_test)\n",
    "print(f\"Validation Accuracy: {accuracy_score(y_val, y_val_pred)}\")\n",
    "print(f\"Test Accuracy: {accuracy_score(y_test, y_test_pred)}\")\n"
   ]
  },
  {
   "cell_type": "markdown",
   "id": "935ccfc4",
   "metadata": {
    "papermill": {
     "duration": 0.01946,
     "end_time": "2024-06-13T15:52:50.635898",
     "exception": false,
     "start_time": "2024-06-13T15:52:50.616438",
     "status": "completed"
    },
    "tags": []
   },
   "source": [
    "Plot confusion matrix for ```Actual Positive```, ```Actual Negative```, ```Predict Positive```, and ```Predict Negative``` measurements of the predicted lables."
   ]
  },
  {
   "cell_type": "code",
   "execution_count": 13,
   "id": "abee58c7",
   "metadata": {
    "execution": {
     "iopub.execute_input": "2024-06-13T15:52:50.677298Z",
     "iopub.status.busy": "2024-06-13T15:52:50.676879Z",
     "iopub.status.idle": "2024-06-13T15:52:50.987801Z",
     "shell.execute_reply": "2024-06-13T15:52:50.986228Z"
    },
    "papermill": {
     "duration": 0.334899,
     "end_time": "2024-06-13T15:52:50.990749",
     "exception": false,
     "start_time": "2024-06-13T15:52:50.655850",
     "status": "completed"
    },
    "tags": []
   },
   "outputs": [
    {
     "data": {
      "image/png": "[encoded data removed]",
      "text/plain": [
       "<Figure size 640x480 with 2 Axes>"
      ]
     },
     "metadata": {},
     "output_type": "display_data"
    }
   ],
   "source": [
    "sns.heatmap(confusion_matrix(y_test, y_test_pred), annot=True, fmt=\"d\", cmap=\"GnBu\")\n",
    "plt.xlabel('Predicted')\n",
    "plt.ylabel('Actual')\n",
    "plt.title('Confusion Matrix')\n",
    "plt.show()"
   ]
  },
  {
   "cell_type": "markdown",
   "id": "1708e4b2",
   "metadata": {
    "papermill": {
     "duration": 0.019696,
     "end_time": "2024-06-13T15:52:51.031075",
     "exception": false,
     "start_time": "2024-06-13T15:52:51.011379",
     "status": "completed"
    },
    "tags": []
   },
   "source": [
    "Now implement an SVM from scratch without using ```sklearn.svm``` library. You can complete the following ```MySVM``` class."
   ]
  },
  {
   "cell_type": "code",
   "execution_count": 14,
   "id": "7185af20",
   "metadata": {
    "execution": {
     "iopub.execute_input": "2024-06-13T15:52:51.073183Z",
     "iopub.status.busy": "2024-06-13T15:52:51.072765Z",
     "iopub.status.idle": "2024-06-13T15:52:51.087349Z",
     "shell.execute_reply": "2024-06-13T15:52:51.086197Z"
    },
    "papermill": {
     "duration": 0.038972,
     "end_time": "2024-06-13T15:52:51.090083",
     "exception": false,
     "start_time": "2024-06-13T15:52:51.051111",
     "status": "completed"
    },
    "tags": []
   },
   "outputs": [],
   "source": [
    "class MySVM:\n",
    "    \"\"\"\n",
    "    Support Vector Machine (SVM) classifier using linear kernel.\n",
    "\n",
    "    Attributes:\n",
    "        learning_rate (float): The learning rate for gradient descent.\n",
    "        lambda_param (float): The regularization parameter to prevent overfitting.\n",
    "        n_iters (int): The number of iterations for the gradient descent.\n",
    "        w (numpy.ndarray): The weight vector.\n",
    "        b (float): The bias term.\n",
    "\n",
    "    Methods:\n",
    "        fit(X, y):\n",
    "            Trains the SVM model using the provided training data.\n",
    "        predict(X):\n",
    "            Predicts the class labels for the provided test data.\n",
    "    \"\"\"\n",
    "\n",
    "    def __init__(self, learning_rate=0.001, lambda_param=0.01, n_iters=1000):\n",
    "        \"\"\"\n",
    "        Initializes the SVM with the given hyperparameters.\n",
    "\n",
    "        input:\n",
    "            learning_rate (float): The learning rate for gradient descent. Default is 0.001.\n",
    "            lambda_param (float): The regularization parameter to prevent overfitting. Default is 0.01.\n",
    "            n_iters (int): The number of iterations for the gradient descent. Default is 1000.\n",
    "        \"\"\"\n",
    "\n",
    "        self.learning_rate = learning_rate\n",
    "        self.lambda_param = lambda_param\n",
    "        self.n_iters = n_iters\n",
    "        self.w = None\n",
    "        self.b = None\n",
    "\n",
    "\n",
    "    def fit(self, X, y):\n",
    "        \"\"\"\n",
    "        Trains the SVM model using the provided training data.\n",
    "\n",
    "        input:\n",
    "            X (numpy.ndarray): Training data of shape (n_samples, n_features).\n",
    "            y (numpy.ndarray): True labels for the training data of shape (n_samples,).\n",
    "        \n",
    "        The method converts labels to {-1, 1} and performs gradient descent to optimize the weights and bias.\n",
    "        \"\"\"\n",
    "\n",
    "        # Convert labels to {-1, 1}\n",
    "        y = np.where(y <= 0, -1, 1)\n",
    "\n",
    "        n_samples, n_features = X.shape\n",
    "        self.w = np.zeros(n_features)\n",
    "        self.b = 0\n",
    "\n",
    "        # Gradient descent\n",
    "        for _ in range(self.n_iters):\n",
    "            for idx, x_i in enumerate(X):\n",
    "                condition = y[idx] * (np.dot(x_i, self.w) - self.b) >= 1\n",
    "                if condition:\n",
    "                    self.w -= self.learning_rate * (2 * self.lambda_param * self.w)\n",
    "                else:\n",
    "                    self.w -= self.learning_rate * (2 * self.lambda_param * self.w - np.dot(x_i, y[idx]))\n",
    "                    self.b -= self.learning_rate * y[idx]\n",
    "\n",
    "    def predict(self, X):\n",
    "        \"\"\"\n",
    "        Predicts the class labels for the provided test data.\n",
    "\n",
    "        input:\n",
    "            X (numpy.ndarray): Test data of shape (n_samples, n_features).\n",
    "\n",
    "        output:\n",
    "            numpy.ndarray: Predicted class labels of shape (n_samples,).\n",
    "        \n",
    "        The method calculates the decision function and returns the sign of the result.\n",
    "        \"\"\"\n",
    "\n",
    "        linear_output = np.dot(X, self.w) - self.b\n",
    "        return np.sign(linear_output)"
   ]
  },
  {
   "cell_type": "markdown",
   "id": "12fdbcd1",
   "metadata": {
    "papermill": {
     "duration": 0.019526,
     "end_time": "2024-06-13T15:52:51.129876",
     "exception": false,
     "start_time": "2024-06-13T15:52:51.110350",
     "status": "completed"
    },
    "tags": []
   },
   "source": [
    "Fit your model to the train data and evlaute your results."
   ]
  },
  {
   "cell_type": "code",
   "execution_count": 15,
   "id": "342de262",
   "metadata": {
    "execution": {
     "iopub.execute_input": "2024-06-13T15:52:51.173330Z",
     "iopub.status.busy": "2024-06-13T15:52:51.172878Z",
     "iopub.status.idle": "2024-06-13T15:53:33.039720Z",
     "shell.execute_reply": "2024-06-13T15:53:33.038105Z"
    },
    "papermill": {
     "duration": 41.893196,
     "end_time": "2024-06-13T15:53:33.043742",
     "exception": false,
     "start_time": "2024-06-13T15:52:51.150546",
     "status": "completed"
    },
    "tags": []
   },
   "outputs": [],
   "source": [
    "model = MySVM()\n",
    "model.fit(X_train , y_train)"
   ]
  },
  {
   "cell_type": "code",
   "execution_count": 16,
   "id": "4b700359",
   "metadata": {
    "execution": {
     "iopub.execute_input": "2024-06-13T15:53:33.097189Z",
     "iopub.status.busy": "2024-06-13T15:53:33.096025Z",
     "iopub.status.idle": "2024-06-13T15:53:33.120234Z",
     "shell.execute_reply": "2024-06-13T15:53:33.118614Z"
    },
    "papermill": {
     "duration": 0.052875,
     "end_time": "2024-06-13T15:53:33.125057",
     "exception": false,
     "start_time": "2024-06-13T15:53:33.072182",
     "status": "completed"
    },
    "tags": []
   },
   "outputs": [
    {
     "name": "stdout",
     "output_type": "stream",
     "text": [
      "Validation Accuracy: 0.738\n",
      "Test Accuracy: 0.754\n"
     ]
    }
   ],
   "source": [
    "#For Evaluation\n",
    "y_val_pred = model.predict(X_val)\n",
    "y_test_pred = model.predict(X_test)\n",
    "print(f\"Validation Accuracy: {accuracy_score(y_val, y_val_pred)}\")\n",
    "print(f\"Test Accuracy: {accuracy_score(y_test, y_test_pred)}\")\n"
   ]
  },
  {
   "cell_type": "markdown",
   "id": "78de7daf",
   "metadata": {
    "papermill": {
     "duration": 0.067355,
     "end_time": "2024-06-13T15:53:33.235104",
     "exception": false,
     "start_time": "2024-06-13T15:53:33.167749",
     "status": "completed"
    },
    "tags": []
   },
   "source": [
    "# Phase 3: Multiclass SVM (30 points)"
   ]
  },
  {
   "cell_type": "markdown",
   "id": "505092df",
   "metadata": {
    "papermill": {
     "duration": 0.028187,
     "end_time": "2024-06-13T15:53:33.292633",
     "exception": false,
     "start_time": "2024-06-13T15:53:33.264446",
     "status": "completed"
    },
    "tags": []
   },
   "source": [
    "Compute accuracy, balanced accuracy and plot confusion matrix of your trained model using ```Seaborn.heatmap()``` function. Use case of balanced accuracy is when dealing with imbalanced data, i.e. when one of the target classes appears a lot more than the other and it is defined by average of recall of classes. Confusion matrix is a $k\\times k$ (k is number of classes) matrix which cell ij is showing that number of data points labeld i which predicted j. For more detail of evaluation metrics you can see [here](https://neptune.ai/blog/balanced-accuracy).\n",
    "\n",
    "You may use ```scikit-learn``` library to compute these metrics."
   ]
  },
  {
   "cell_type": "code",
   "execution_count": 17,
   "id": "4fefde4c",
   "metadata": {
    "execution": {
     "iopub.execute_input": "2024-06-13T15:53:33.335740Z",
     "iopub.status.busy": "2024-06-13T15:53:33.335329Z",
     "iopub.status.idle": "2024-06-13T15:54:14.910729Z",
     "shell.execute_reply": "2024-06-13T15:54:14.909529Z"
    },
    "papermill": {
     "duration": 41.62232,
     "end_time": "2024-06-13T15:54:14.936122",
     "exception": false,
     "start_time": "2024-06-13T15:53:33.313802",
     "status": "completed"
    },
    "tags": []
   },
   "outputs": [
    {
     "data": {
      "image/png": "[encoded data removed]",
      "text/plain": [
       "<Figure size 800x600 with 2 Axes>"
      ]
     },
     "metadata": {},
     "output_type": "display_data"
    },
    {
     "name": "stdout",
     "output_type": "stream",
     "text": [
      "Accuracy: 0.754\n",
      "Balanced Accuracy: 0.5670004624881865\n"
     ]
    }
   ],
   "source": [
    "def evaluate(y_test, y_pred):\n",
    "    \"\"\"\n",
    "    input:\n",
    "        y_test: true labels\n",
    "        y_pred: predicted labels\n",
    "    output:\n",
    "        accuracy: accuracy of the model\n",
    "        balanced_accuracy: balanced accuracy of the model\n",
    "        confusion_matrix: confusion matrix of the model\n",
    "    \"\"\"\n",
    "    accuracy = accuracy_score(y_test, y_pred)\n",
    "    \n",
    "    balanced_accuracy = balanced_accuracy_score(y_test, y_pred)\n",
    "    \n",
    "    cm = confusion_matrix(y_test, y_pred)\n",
    "    \n",
    "    plt.figure(figsize=(8, 6))\n",
    "    sns.heatmap(cm, annot=True, fmt=\"d\", cmap=\"Blues\")\n",
    "    plt.xlabel('Predicted')\n",
    "    plt.ylabel('Actual')\n",
    "    plt.title('Confusion Matrix')\n",
    "    plt.show()\n",
    "    \n",
    "    return accuracy, balanced_accuracy, cm\n",
    "\n",
    "# Assuming X_train, X_test, y_train, y_test are already defined\n",
    "svm = MySVM(learning_rate=0.001, lambda_param=0.01, n_iters=1000)\n",
    "svm.fit(X_train, y_train)\n",
    "y_pred = svm.predict(X_test)\n",
    "\n",
    "accuracy, balanced_accuracy, cm = evaluate(y_test, y_pred)\n",
    "print(f\"Accuracy: {accuracy}\")\n",
    "print(f\"Balanced Accuracy: {balanced_accuracy}\")"
   ]
  },
  {
   "cell_type": "code",
   "execution_count": null,
   "id": "3c519a4c",
   "metadata": {
    "papermill": {
     "duration": 0.020241,
     "end_time": "2024-06-13T15:54:14.976880",
     "exception": false,
     "start_time": "2024-06-13T15:54:14.956639",
     "status": "completed"
    },
    "tags": []
   },
   "outputs": [],
   "source": []
  },
  {
   "cell_type": "markdown",
   "id": "8bd9cbdf",
   "metadata": {
    "papermill": {
     "duration": 0.020119,
     "end_time": "2024-06-13T15:54:15.017483",
     "exception": false,
     "start_time": "2024-06-13T15:54:14.997364",
     "status": "completed"
    },
    "tags": []
   },
   "source": [
    "Now we want implement Multiclass SVM. Use ```SVC``` function with rbf kernel from ```scikit-learn``` package on all train datas (all six classes) and choose best hyperparameters for $C$ and $\\gamma$ between 0.01, 0.1, 1, 10, 100. After that evaluate it with your ```evaluate``` function.\n",
    "\n",
    "Note that in this example we had enough data to split them in train and validation but in case that we don't have enough data, ```scikit-learn``` has a built-in fast library named ```GridSearchCV()``` which can help us in hyperparameter tunning with cross validation."
   ]
  },
  {
   "cell_type": "code",
   "execution_count": 18,
   "id": "8649ff3a",
   "metadata": {
    "execution": {
     "iopub.execute_input": "2024-06-13T15:54:15.060041Z",
     "iopub.status.busy": "2024-06-13T15:54:15.059669Z",
     "iopub.status.idle": "2024-06-13T15:54:36.287582Z",
     "shell.execute_reply": "2024-06-13T15:54:36.285933Z"
    },
    "papermill": {
     "duration": 21.25347,
     "end_time": "2024-06-13T15:54:36.291191",
     "exception": false,
     "start_time": "2024-06-13T15:54:15.037721",
     "status": "completed"
    },
    "tags": []
   },
   "outputs": [
    {
     "name": "stdout",
     "output_type": "stream",
     "text": [
      "Best parameters: {'C': 100, 'gamma': 0.01}\n"
     ]
    }
   ],
   "source": [
    "C_values = [0.01, 0.1, 1, 10, 100]\n",
    "gamma_values = [0.01, 0.1, 1, 10, 100]\n",
    "\n",
    "### YOUR CODE GOES BELOW HERE ###\n",
    "best_accuracy = 0\n",
    "best_params = {'C': None, 'gamma': None}\n",
    "\n",
    "for C in C_values:\n",
    "    for gamma in gamma_values:\n",
    "        svm = SVC(kernel='rbf', C=C, gamma=gamma)\n",
    "        \n",
    "        svm.fit(X_train, y_train)\n",
    "        \n",
    "        y_val_pred = svm.predict(X_val)\n",
    "        \n",
    "        accuracy = accuracy_score(y_val, y_val_pred)\n",
    "        \n",
    "        if accuracy > best_accuracy:\n",
    "            best_accuracy = accuracy\n",
    "            best_params = {'C': C, 'gamma': gamma}\n",
    "\n",
    "print(f\"Best parameters: {best_params}\")"
   ]
  },
  {
   "cell_type": "code",
   "execution_count": 19,
   "id": "73f56bf8",
   "metadata": {
    "execution": {
     "iopub.execute_input": "2024-06-13T15:54:36.352563Z",
     "iopub.status.busy": "2024-06-13T15:54:36.351711Z",
     "iopub.status.idle": "2024-06-13T15:54:45.868849Z",
     "shell.execute_reply": "2024-06-13T15:54:45.867593Z"
    },
    "papermill": {
     "duration": 9.551391,
     "end_time": "2024-06-13T15:54:45.872271",
     "exception": false,
     "start_time": "2024-06-13T15:54:36.320880",
     "status": "completed"
    },
    "tags": []
   },
   "outputs": [
    {
     "data": {
      "image/png": "[encoded data removed]",
      "text/plain": [
       "<Figure size 800x600 with 2 Axes>"
      ]
     },
     "metadata": {},
     "output_type": "display_data"
    },
    {
     "name": "stdout",
     "output_type": "stream",
     "text": [
      "Accuracy: 0.759\n",
      "Balanced Accuracy: 0.5658995395226317\n"
     ]
    }
   ],
   "source": [
    "# Train the best model on the full training data\n",
    "best_model = SVC(kernel='rbf', C=best_params['C'], gamma=best_params['gamma'])\n",
    "best_model.fit(np.vstack((X_train, X_val)), np.hstack((y_train, y_val)))\n",
    "\n",
    "# Predict on the test set\n",
    "y_test_pred = best_model.predict(X_test)\n",
    "\n",
    "# Evaluate the best model\n",
    "accuracy, balanced_accuracy, cm = evaluate(y_test, y_test_pred)\n",
    "print(f\"Accuracy: {accuracy}\")\n",
    "print(f\"Balanced Accuracy: {balanced_accuracy}\")"
   ]
  },
  {
   "cell_type": "markdown",
   "id": "f1e3e67b",
   "metadata": {
    "papermill": {
     "duration": 0.020755,
     "end_time": "2024-06-13T15:54:45.914478",
     "exception": false,
     "start_time": "2024-06-13T15:54:45.893723",
     "status": "completed"
    },
    "tags": []
   },
   "source": [
    "# Phase 4: Different SVM Kernels (40 points)"
   ]
  },
  {
   "cell_type": "markdown",
   "id": "f4e05fe0",
   "metadata": {
    "papermill": {
     "duration": 0.020559,
     "end_time": "2024-06-13T15:54:45.956033",
     "exception": false,
     "start_time": "2024-06-13T15:54:45.935474",
     "status": "completed"
    },
    "tags": []
   },
   "source": [
    "In the context of SVMs, a kernel function acts as a mathematical tool that facilitates the resolution of complex classification problems. Kernels enable the transformation of data into a higher-dimensional feature space, where intricate relationships between data points can be more effectively modeled using linear methods. This capability allows SVMs to handle problems with a vast number of dimensions, potentially even infinite dimensions. Kernel functions play a critical role in data classification tasks by enabling the identification of patterns within the data. Notably, they excel at addressing non-linear problems using a linear approach.\n",
    "\n",
    "Traditionally, SVMs strive to identify a hyperplane (a straight line in higher dimensions) that optimally separates data points belonging to distinct classes. However, for data exhibiting non-linear relationships, this approach may not be feasible, especially as the dimensionality of the data increases. Kernel functions address this limitation by implicitly transforming the data into a higher-dimensional space where a linear separation becomes possible. This document explores four commonly employed kernel functions used in SVM classification. Subsequent sections will provide implementation examples using various software packages."
   ]
  },
  {
   "cell_type": "markdown",
   "id": "fd82c1da",
   "metadata": {
    "papermill": {
     "duration": 0.02102,
     "end_time": "2024-06-13T15:54:45.998028",
     "exception": false,
     "start_time": "2024-06-13T15:54:45.977008",
     "status": "completed"
    },
    "tags": []
   },
   "source": [
    "### Linear Kernel"
   ]
  },
  {
   "cell_type": "markdown",
   "id": "ea8c7471",
   "metadata": {
    "papermill": {
     "duration": 0.020572,
     "end_time": "2024-06-13T15:54:46.039388",
     "exception": false,
     "start_time": "2024-06-13T15:54:46.018816",
     "status": "completed"
    },
    "tags": []
   },
   "source": [
    "This is the simplest kind of kernel, typically working in one dimension. It works best when dealing with a lot of features. Linear kernels are quicker than other types.\n",
    "\n",
    "**Formula:**\n",
    "\n",
    "$$F(x, x_j) = sum(x, x_j)$$\n",
    "\n",
    "Now Implement svc classifier using a linear kernel. Get the prediction and evaluate it by function which you implemented before. Also plot confusion matrix by `Seaborn`."
   ]
  },
  {
   "cell_type": "code",
   "execution_count": 20,
   "id": "f651f5e5",
   "metadata": {
    "execution": {
     "iopub.execute_input": "2024-06-13T15:54:46.083066Z",
     "iopub.status.busy": "2024-06-13T15:54:46.082660Z",
     "iopub.status.idle": "2024-06-13T15:54:46.630250Z",
     "shell.execute_reply": "2024-06-13T15:54:46.628968Z"
    },
    "papermill": {
     "duration": 0.573532,
     "end_time": "2024-06-13T15:54:46.633658",
     "exception": false,
     "start_time": "2024-06-13T15:54:46.060126",
     "status": "completed"
    },
    "tags": []
   },
   "outputs": [
    {
     "data": {
      "image/png": "[encoded data removed]",
      "text/plain": [
       "<Figure size 800x600 with 2 Axes>"
      ]
     },
     "metadata": {},
     "output_type": "display_data"
    },
    {
     "name": "stdout",
     "output_type": "stream",
     "text": [
      "Accuracy: 0.738\n",
      "Balanced Accuracy: 0.5687462435388869\n"
     ]
    }
   ],
   "source": [
    "svm_linear = SVC(kernel='linear')\n",
    "svm_linear.fit(X_train, y_train)\n",
    "\n",
    "# Predict on the test set\n",
    "y_val_pred = svm_linear.predict(X_val)\n",
    "accuracy, balanced_accuracy, cm = evaluate(y_val, y_val_pred)\n",
    "print(f\"Accuracy: {accuracy}\")\n",
    "print(f\"Balanced Accuracy: {balanced_accuracy}\")\n"
   ]
  },
  {
   "cell_type": "markdown",
   "id": "0d2fb242",
   "metadata": {
    "papermill": {
     "duration": 0.021787,
     "end_time": "2024-06-13T15:54:46.677013",
     "exception": false,
     "start_time": "2024-06-13T15:54:46.655226",
     "status": "completed"
    },
    "tags": []
   },
   "source": [
    "### Gaussian RBF kernel"
   ]
  },
  {
   "cell_type": "markdown",
   "id": "ce452dd3",
   "metadata": {
    "papermill": {
     "duration": 0.021761,
     "end_time": "2024-06-13T15:54:46.721250",
     "exception": false,
     "start_time": "2024-06-13T15:54:46.699489",
     "status": "completed"
    },
    "tags": []
   },
   "source": [
    "This kernel is a favorite choice in SVM, especially for data that doesn't line up straight. It's great for sorting data when you don't know much about it beforehand.\n",
    "\n",
    "**Formula:**\n",
    "\n",
    "$$F(x, x_j) = \\exp{(-\\gamma ||x - xj||^2)}$$\n",
    "\n",
    "Now, configure the SVC classifier with a sigmoid kernel. Get the prediction and evaluate it by function which you implemented before. Also plot confusion matrix as previous part."
   ]
  },
  {
   "cell_type": "code",
   "execution_count": 21,
   "id": "c6d9e066",
   "metadata": {
    "execution": {
     "iopub.execute_input": "2024-06-13T15:54:46.766837Z",
     "iopub.status.busy": "2024-06-13T15:54:46.766411Z",
     "iopub.status.idle": "2024-06-13T15:54:47.709047Z",
     "shell.execute_reply": "2024-06-13T15:54:47.707887Z"
    },
    "papermill": {
     "duration": 0.968413,
     "end_time": "2024-06-13T15:54:47.711723",
     "exception": false,
     "start_time": "2024-06-13T15:54:46.743310",
     "status": "completed"
    },
    "tags": []
   },
   "outputs": [
    {
     "data": {
      "image/png": "[encoded data removed]",
      "text/plain": [
       "<Figure size 800x600 with 2 Axes>"
      ]
     },
     "metadata": {},
     "output_type": "display_data"
    },
    {
     "name": "stdout",
     "output_type": "stream",
     "text": [
      "Accuracy: 0.741\n",
      "Balanced Accuracy: 0.5679168169251112\n"
     ]
    }
   ],
   "source": [
    "svm_rbf = SVC(kernel='rbf')\n",
    "svm_rbf.fit(X_train, y_train)\n",
    "\n",
    "# Predict on the test set\n",
    "y_val_pred = svm_rbf.predict(X_val)\n",
    "\n",
    "accuracy, balanced_accuracy, cm = evaluate(y_val, y_val_pred)\n",
    "print(f\"Accuracy: {accuracy}\")\n",
    "print(f\"Balanced Accuracy: {balanced_accuracy}\")"
   ]
  },
  {
   "cell_type": "markdown",
   "id": "3dc69980",
   "metadata": {
    "papermill": {
     "duration": 0.02249,
     "end_time": "2024-06-13T15:54:47.756349",
     "exception": false,
     "start_time": "2024-06-13T15:54:47.733859",
     "status": "completed"
    },
    "tags": []
   },
   "source": [
    "### Polynomial Kernel"
   ]
  },
  {
   "cell_type": "markdown",
   "id": "55793bd9",
   "metadata": {
    "papermill": {
     "duration": 0.022179,
     "end_time": "2024-06-13T15:54:47.801174",
     "exception": false,
     "start_time": "2024-06-13T15:54:47.778995",
     "status": "completed"
    },
    "tags": []
   },
   "source": [
    "This is a broader version of the linear kernel. It's not as popular because it's not as quick or precise.\n",
    "\n",
    "**Formula:**\n",
    "\n",
    "$$F(x, x_j) = (x.x_j+1)^d$$\n",
    "\n",
    "Now, set up the SVC classifier using a *polynomial* kernel. Get the prediction and evaluate it by function which you implemented before. Also plot confusion matrix as previous parts."
   ]
  },
  {
   "cell_type": "code",
   "execution_count": 22,
   "id": "c5ca3433",
   "metadata": {
    "execution": {
     "iopub.execute_input": "2024-06-13T15:54:47.847031Z",
     "iopub.status.busy": "2024-06-13T15:54:47.846591Z",
     "iopub.status.idle": "2024-06-13T15:54:49.608033Z",
     "shell.execute_reply": "2024-06-13T15:54:49.606934Z"
    },
    "papermill": {
     "duration": 1.78744,
     "end_time": "2024-06-13T15:54:49.610646",
     "exception": false,
     "start_time": "2024-06-13T15:54:47.823206",
     "status": "completed"
    },
    "tags": []
   },
   "outputs": [
    {
     "data": {
      "image/png": "[encoded data removed]",
      "text/plain": [
       "<Figure size 800x600 with 2 Axes>"
      ]
     },
     "metadata": {},
     "output_type": "display_data"
    },
    {
     "name": "stdout",
     "output_type": "stream",
     "text": [
      "Accuracy: 0.734\n",
      "Balanced Accuracy: 0.5599951917297752\n"
     ]
    }
   ],
   "source": [
    "svm_poly = SVC(kernel='poly', degree=3, coef0=1)\n",
    "svm_poly.fit(X_train, y_train)\n",
    "# Predict on the test set\n",
    "y_val_pred = svm_poly.predict(X_val)\n",
    "\n",
    "accuracy, balanced_accuracy, cm = evaluate(y_val, y_val_pred)\n",
    "print(f\"Accuracy: {accuracy}\")\n",
    "print(f\"Balanced Accuracy: {balanced_accuracy}\")"
   ]
  },
  {
   "cell_type": "markdown",
   "id": "a8284c13",
   "metadata": {
    "papermill": {
     "duration": 0.022289,
     "end_time": "2024-06-13T15:54:49.655527",
     "exception": false,
     "start_time": "2024-06-13T15:54:49.633238",
     "status": "completed"
    },
    "tags": []
   },
   "source": [
    "### Sigmoid Kernel"
   ]
  },
  {
   "cell_type": "markdown",
   "id": "0c7e79ff",
   "metadata": {
    "papermill": {
     "duration": 0.022526,
     "end_time": "2024-06-13T15:54:49.701106",
     "exception": false,
     "start_time": "2024-06-13T15:54:49.678580",
     "status": "completed"
    },
    "tags": []
   },
   "source": [
    "This is mainly chosen for use with neural networks. The kernel function acts like the activation function in a two-layer perceptron neural network model, helping to activate the neurons.\n",
    "\n",
    "**Formula:**\n",
    "\n",
    "$$F(x, x_j) = \\tanh(α x a y + c)$$\n",
    "\n",
    "Now, configure the SVC classifier with a sigmoid kernel. Get the prediction and evaluate it by function which you implemented before. Also plot confusion matrix as previous parts."
   ]
  },
  {
   "cell_type": "code",
   "execution_count": 23,
   "id": "0d991ae3",
   "metadata": {
    "execution": {
     "iopub.execute_input": "2024-06-13T15:54:49.749378Z",
     "iopub.status.busy": "2024-06-13T15:54:49.748919Z",
     "iopub.status.idle": "2024-06-13T15:54:50.523112Z",
     "shell.execute_reply": "2024-06-13T15:54:50.521608Z"
    },
    "papermill": {
     "duration": 0.801182,
     "end_time": "2024-06-13T15:54:50.525775",
     "exception": false,
     "start_time": "2024-06-13T15:54:49.724593",
     "status": "completed"
    },
    "tags": []
   },
   "outputs": [
    {
     "data": {
      "image/png": "[encoded data removed]",
      "text/plain": [
       "<Figure size 800x600 with 2 Axes>"
      ]
     },
     "metadata": {},
     "output_type": "display_data"
    },
    {
     "name": "stdout",
     "output_type": "stream",
     "text": [
      "Accuracy: 0.646\n",
      "Balanced Accuracy: 0.5429258324317827\n"
     ]
    }
   ],
   "source": [
    "svm_sigmoid = SVC(kernel='sigmoid')\n",
    "svm_sigmoid.fit(X_train, y_train)\n",
    "# Predict on the test set\n",
    "y_val_pred = svm_sigmoid.predict(X_val)\n",
    "\n",
    "accuracy, balanced_accuracy, cm = evaluate(y_val, y_val_pred)\n",
    "print(f\"Accuracy: {accuracy}\")\n",
    "print(f\"Balanced Accuracy: {balanced_accuracy}\")"
   ]
  },
  {
   "cell_type": "markdown",
   "id": "572076a6",
   "metadata": {
    "papermill": {
     "duration": 0.022896,
     "end_time": "2024-06-13T15:54:50.571897",
     "exception": false,
     "start_time": "2024-06-13T15:54:50.549001",
     "status": "completed"
    },
    "tags": []
   },
   "source": [
    "Compare these four kernel functions with each other. What are the main advantages and disadvantages of each one?"
   ]
  },
  {
   "cell_type": "markdown",
   "id": "169688dd",
   "metadata": {
    "papermill": {
     "duration": 0.024306,
     "end_time": "2024-06-13T15:54:50.621646",
     "exception": false,
     "start_time": "2024-06-13T15:54:50.597340",
     "status": "completed"
    },
    "tags": []
   },
   "source": [
    "`TODO: Write Here`\n",
    "\n",
    "Support Vector Machine (SVM) classifiers employ different kernel functions, each with its own advantages and disadvantages:\n",
    "\n",
    "Linear Kernel:\n",
    "  - Advantages: Simple, efficient, and interpretable. Suitable for linearly separable data.\n",
    "  - Disadvantages: Limited to linear relationships.\n",
    "  \n",
    "Polynomial Kernel:\n",
    "  - Advantages: Flexible, can model non-linear relationships and handle interaction features.\n",
    "  - Disadvantages: Computationally expensive and prone to overfitting with high degrees.\n",
    "  \n",
    "RBF Kernel:\n",
    "  - Advantages: Highly flexible, effective for non-linear data.\n",
    "  - Disadvantages: Requires careful tuning of hyperparameters, computationally intensive.\n",
    "  \n",
    "Sigmoid Kernel:\n",
    "  - Advantages: Flexible, similar to neural network activation functions.\n",
    "  - Disadvantages: Less popular, can be unstable, requires careful hyperparameter tuning.\n",
    "\n",
    "Key Points:\n",
    "  - Linear Kernel: Best for linearly separable data.\n",
    "  - Polynomial Kernel: Good for non-linear relationships but can overfit.\n",
    "  - RBF Kernel: Highly flexible for non-linear data but requires tuning.\n",
    "  - Sigmoid Kernel: Mimics neural networks but less commonly used."
   ]
  }
 ],
 "metadata": {
  "kaggle": {
   "accelerator": "none",
   "dataSources": [],
   "dockerImageVersionId": 30715,
   "isGpuEnabled": false,
   "isInternetEnabled": true,
   "language": "python",
   "sourceType": "notebook"
  },
  "kernelspec": {
   "display_name": "Python 3",
   "language": "python",
   "name": "python3"
  },
  "language_info": {
   "codemirror_mode": {
    "name": "ipython",
    "version": 3
   },
   "file_extension": ".py",
   "mimetype": "text/x-python",
   "name": "python",
   "nbconvert_exporter": "python",
   "pygments_lexer": "ipython3",
   "version": "3.10.13"
  },
  "papermill": {
   "default_parameters": {},
   "duration": 132.275926,
   "end_time": "2024-06-13T15:54:51.369368",
   "environment_variables": {},
   "exception": null,
   "input_path": "__notebook__.ipynb",
   "output_path": "__notebook__.ipynb",
   "parameters": {},
   "start_time": "2024-06-13T15:52:39.093442",
   "version": "2.5.0"
  }
 },
 "nbformat": 4,
 "nbformat_minor": 5
}
